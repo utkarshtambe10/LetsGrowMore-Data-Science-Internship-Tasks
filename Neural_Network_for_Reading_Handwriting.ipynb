{
  "nbformat": 4,
  "nbformat_minor": 0,
  "metadata": {
    "colab": {
      "provenance": [],
      "authorship_tag": "ABX9TyNyJSIdRh0Ikc4Sar22bwAJ",
      "include_colab_link": true
    },
    "kernelspec": {
      "name": "python3",
      "display_name": "Python 3"
    },
    "language_info": {
      "name": "python"
    },
    "accelerator": "GPU",
    "gpuClass": "standard"
  },
  "cells": [
    {
      "cell_type": "markdown",
      "metadata": {
        "id": "view-in-github",
        "colab_type": "text"
      },
      "source": [
        "<a href=\"https://colab.research.google.com/github/utkarshtambe10/LetsGrowMore-Data-Science-Internship-Tasks/blob/main/Neural_Network_for_Reading_Handwriting.ipynb\" target=\"_parent\"><img src=\"https://colab.research.google.com/assets/colab-badge.svg\" alt=\"Open In Colab\"/></a>"
      ]
    },
    {
      "cell_type": "markdown",
      "source": [
        "#LetsGrowMore - Advanced Level Task 1\n",
        "##A Neural Network that can Read Handwriting"
      ],
      "metadata": {
        "id": "ddDyvv5lNENh"
      }
    },
    {
      "cell_type": "markdown",
      "source": [
        "Developing a Neural Network that can Read Handwriting with MNIST Dataset."
      ],
      "metadata": {
        "id": "JRdEcZSENNLn"
      }
    },
    {
      "cell_type": "code",
      "execution_count": null,
      "metadata": {
        "id": "pPtTrKtrlurS"
      },
      "outputs": [],
      "source": [
        "import warnings\n",
        "warnings.filterwarnings('ignore')\n"
      ]
    },
    {
      "cell_type": "markdown",
      "source": [
        "#Importing Required Libraries"
      ],
      "metadata": {
        "id": "fvCLywfPNpvJ"
      }
    },
    {
      "cell_type": "code",
      "source": [
        "import tensorflow as tf\n",
        "import numpy as np\n",
        "import matplotlib.pyplot as plt\n",
        "import seaborn as sns\n"
      ],
      "metadata": {
        "id": "ChOTtvifNkf3"
      },
      "execution_count": null,
      "outputs": []
    },
    {
      "cell_type": "markdown",
      "source": [
        "#Importing Required Dataset"
      ],
      "metadata": {
        "id": "FTjTCnG1N5tC"
      }
    },
    {
      "cell_type": "code",
      "source": [
        "(x_train, y_train), (x_test, y_test) = tf.keras.datasets.mnist.load_data()\n"
      ],
      "metadata": {
        "colab": {
          "base_uri": "https://localhost:8080/"
        },
        "id": "gHxN8eJiN9Zx",
        "outputId": "6eab9c64-3816-4c05-d038-ee635d8c1d42"
      },
      "execution_count": null,
      "outputs": [
        {
          "output_type": "stream",
          "name": "stdout",
          "text": [
            "Downloading data from https://storage.googleapis.com/tensorflow/tf-keras-datasets/mnist.npz\n",
            "11490434/11490434 [==============================] - 0s 0us/step\n"
          ]
        }
      ]
    },
    {
      "cell_type": "markdown",
      "source": [
        "#Data Visualization"
      ],
      "metadata": {
        "id": "7d9DjnygOmFK"
      }
    },
    {
      "cell_type": "code",
      "source": [
        "plt.figure(figsize = (15, 6))\n",
        "sns.countplot(y_train)\n"
      ],
      "metadata": {
        "id": "FmuJRTU3OJVk",
        "colab": {
          "base_uri": "https://localhost:8080/",
          "height": 391
        },
        "outputId": "55ab9a70-d068-4c38-a47a-8aa03f3ca6d1"
      },
      "execution_count": null,
      "outputs": [
        {
          "output_type": "execute_result",
          "data": {
            "text/plain": [
              "<matplotlib.axes._subplots.AxesSubplot at 0x7ff6fa214fd0>"
            ]
          },
          "metadata": {},
          "execution_count": 4
        },
        {
          "output_type": "display_data",
          "data": {
            "text/plain": [
              "<Figure size 1080x432 with 1 Axes>"
            ],
            "image/png": "[encoded data removed]"
          },
          "metadata": {
            "needs_background": "light"
          }
        }
      ]
    },
    {
      "cell_type": "code",
      "source": [
        "fig, axes = plt.subplots(ncols = 5, sharex = False, sharey = True, figsize = (15, 6))\n",
        "for i in range(5):\n",
        "  axes[i].set_title(y_train[i])\n",
        "  axes[i].imshow(x_train[i], cmap='gray_r')\n",
        "  axes[i].get_xaxis().set_visible(False)\n",
        "  axes[i].get_yaxis().set_visible(False)\n",
        "  \n",
        "plt.show()"
      ],
      "metadata": {
        "colab": {
          "base_uri": "https://localhost:8080/",
          "height": 195
        },
        "id": "ytji1ebJOtgm",
        "outputId": "7c91076d-e752-4326-8259-e94b51fa36e8"
      },
      "execution_count": null,
      "outputs": [
        {
          "output_type": "display_data",
          "data": {
            "text/plain": [
              "<Figure size 1080x432 with 5 Axes>"
            ],
            "image/png": "[encoded data removed]"
          },
          "metadata": {
            "needs_background": "light"
          }
        }
      ]
    },
    {
      "cell_type": "markdown",
      "source": [
        "#Data Pre-processing"
      ],
      "metadata": {
        "id": "yxpNKUq7PH2K"
      }
    },
    {
      "cell_type": "code",
      "source": [
        "print('Training images shape: ', x_train.shape)\n",
        "print('Testing images shape: ', x_test.shape)\n"
      ],
      "metadata": {
        "colab": {
          "base_uri": "https://localhost:8080/"
        },
        "id": "A-l-j97MO-5l",
        "outputId": "7d636b9a-6ab5-4703-f829-31012855605b"
      },
      "execution_count": null,
      "outputs": [
        {
          "output_type": "stream",
          "name": "stdout",
          "text": [
            "Training images shape:  (60000, 28, 28)\n",
            "Testing images shape:  (10000, 28, 28)\n"
          ]
        }
      ]
    },
    {
      "cell_type": "code",
      "source": [
        "x_train = x_train.reshape(x_train.shape[0], 28, 28, 1)\n",
        "x_test = x_test.reshape(x_test.shape[0], 28, 28, 1)\n",
        "input_shape = (28, 28, 1)\n"
      ],
      "metadata": {
        "id": "z2Z4b1y2PWmR"
      },
      "execution_count": null,
      "outputs": []
    },
    {
      "cell_type": "code",
      "source": [
        "x_train = x_train / 255\n",
        "x_test = x_test / 255\n",
        "num_classes = 10\n"
      ],
      "metadata": {
        "id": "5nFL4p4hPbn-"
      },
      "execution_count": null,
      "outputs": []
    },
    {
      "cell_type": "markdown",
      "source": [
        "#Model Architecture"
      ],
      "metadata": {
        "id": "FgDVSGfVPfmo"
      }
    },
    {
      "cell_type": "code",
      "source": [
        "from tensorflow.keras.models import Sequential\n",
        "from tensorflow.keras.layers import Dense, Dropout, Flatten, Activation\n",
        "from tensorflow.keras.layers import Conv2D, MaxPooling2D\n",
        "from tensorflow.keras.layers import BatchNormalization\n"
      ],
      "metadata": {
        "id": "LOufV7QGPh-D"
      },
      "execution_count": null,
      "outputs": []
    },
    {
      "cell_type": "code",
      "source": [
        "model = Sequential()\n",
        "\n",
        "model.add(Conv2D(128, kernel_size = (3, 3),\n",
        "                 activation = tf.nn.relu,\n",
        "                 input_shape = input_shape))\n",
        "model.add(BatchNormalization())\n",
        "model.add(Dropout(0.3))\n",
        "\n",
        "model.add(Conv2D(64, (3, 3), activation = tf.nn.relu))\n",
        "model.add(BatchNormalization())\n",
        "model.add(Dropout(0.3))\n",
        "\n",
        "model.add(Conv2D(32, (3, 3), activation = tf.nn.relu))\n",
        "model.add(BatchNormalization())\n",
        "model.add(Dropout(0.3))\n",
        "\n",
        "\n",
        "model.add(MaxPooling2D(pool_size = (2, 2)))\n",
        "model.add(Dropout(0.3))\n",
        "model.add(Flatten())\n",
        "model.add(Dense(128, activation = tf.nn.relu))\n",
        "model.add(Dropout(0.3))\n",
        "model.add(Dense(num_classes, activation = tf.nn.softmax))\n"
      ],
      "metadata": {
        "id": "P143xm1jQbWQ"
      },
      "execution_count": null,
      "outputs": []
    },
    {
      "cell_type": "code",
      "source": [
        "model.summary()\n"
      ],
      "metadata": {
        "colab": {
          "base_uri": "https://localhost:8080/"
        },
        "id": "oYT_BzZVm0Lk",
        "outputId": "5b44deba-3ac1-4235-dd2a-b0991ff688a1"
      },
      "execution_count": null,
      "outputs": [
        {
          "output_type": "stream",
          "name": "stdout",
          "text": [
            "Model: \"sequential\"\n",
            "_________________________________________________________________\n",
            " Layer (type)                Output Shape              Param #   \n",
            "=================================================================\n",
            " conv2d (Conv2D)             (None, 26, 26, 128)       1280      \n",
            "                                                                 \n",
            " batch_normalization (BatchN  (None, 26, 26, 128)      512       \n",
            " ormalization)                                                   \n",
            "                                                                 \n",
            " dropout (Dropout)           (None, 26, 26, 128)       0         \n",
            "                                                                 \n",
            " conv2d_1 (Conv2D)           (None, 24, 24, 64)        73792     \n",
            "                                                                 \n",
            " batch_normalization_1 (Batc  (None, 24, 24, 64)       256       \n",
            " hNormalization)                                                 \n",
            "                                                                 \n",
            " dropout_1 (Dropout)         (None, 24, 24, 64)        0         \n",
            "                                                                 \n",
            " conv2d_2 (Conv2D)           (None, 22, 22, 32)        18464     \n",
            "                                                                 \n",
            " batch_normalization_2 (Batc  (None, 22, 22, 32)       128       \n",
            " hNormalization)                                                 \n",
            "                                                                 \n",
            " dropout_2 (Dropout)         (None, 22, 22, 32)        0         \n",
            "                                                                 \n",
            " max_pooling2d (MaxPooling2D  (None, 11, 11, 32)       0         \n",
            " )                                                               \n",
            "                                                                 \n",
            " dropout_3 (Dropout)         (None, 11, 11, 32)        0         \n",
            "                                                                 \n",
            " flatten (Flatten)           (None, 3872)              0         \n",
            "                                                                 \n",
            " dense (Dense)               (None, 128)               495744    \n",
            "                                                                 \n",
            " dropout_4 (Dropout)         (None, 128)               0         \n",
            "                                                                 \n",
            " dense_1 (Dense)             (None, 10)                1290      \n",
            "                                                                 \n",
            "=================================================================\n",
            "Total params: 591,466\n",
            "Trainable params: 591,018\n",
            "Non-trainable params: 448\n",
            "_________________________________________________________________\n"
          ]
        }
      ]
    },
    {
      "cell_type": "markdown",
      "source": [
        "#Model Training"
      ],
      "metadata": {
        "id": "QBiSFPSJnAeY"
      }
    },
    {
      "cell_type": "code",
      "source": [
        "model.compile(optimizer = 'adam', \n",
        "              loss = 'sparse_categorical_crossentropy', \n",
        "              metrics = ['accuracy'])\n",
        "history = model.fit(x = x_train,\n",
        "                  y = y_train,\n",
        "                  validation_split = 0.1,\n",
        "                  epochs = 20)\n"
      ],
      "metadata": {
        "colab": {
          "base_uri": "https://localhost:8080/"
        },
        "id": "fOLGPXT9m8P3",
        "outputId": "bc1582cf-d8ee-4cd7-9d32-9fc5306bfc92"
      },
      "execution_count": null,
      "outputs": [
        {
          "output_type": "stream",
          "name": "stdout",
          "text": [
            "Epoch 1/20\n",
            "1688/1688 [==============================] - 26s 9ms/step - loss: 0.2590 - accuracy: 0.9239 - val_loss: 0.1051 - val_accuracy: 0.9732\n",
            "Epoch 2/20\n",
            "1688/1688 [==============================] - 14s 8ms/step - loss: 0.1093 - accuracy: 0.9673 - val_loss: 0.1255 - val_accuracy: 0.9747\n",
            "Epoch 3/20\n",
            "1688/1688 [==============================] - 13s 8ms/step - loss: 0.0862 - accuracy: 0.9745 - val_loss: 0.1016 - val_accuracy: 0.9825\n",
            "Epoch 4/20\n",
            "1688/1688 [==============================] - 13s 8ms/step - loss: 0.0717 - accuracy: 0.9790 - val_loss: 0.0989 - val_accuracy: 0.9852\n",
            "Epoch 5/20\n",
            "1688/1688 [==============================] - 15s 9ms/step - loss: 0.0664 - accuracy: 0.9806 - val_loss: 0.1799 - val_accuracy: 0.9765\n",
            "Epoch 6/20\n",
            "1688/1688 [==============================] - 14s 8ms/step - loss: 0.0628 - accuracy: 0.9819 - val_loss: 0.1096 - val_accuracy: 0.9855\n",
            "Epoch 7/20\n",
            "1688/1688 [==============================] - 14s 8ms/step - loss: 0.0531 - accuracy: 0.9847 - val_loss: 0.1705 - val_accuracy: 0.9795\n",
            "Epoch 8/20\n",
            "1688/1688 [==============================] - 14s 8ms/step - loss: 0.0469 - accuracy: 0.9859 - val_loss: 0.1716 - val_accuracy: 0.9812\n",
            "Epoch 9/20\n",
            "1688/1688 [==============================] - 14s 8ms/step - loss: 0.0443 - accuracy: 0.9871 - val_loss: 0.0854 - val_accuracy: 0.9882\n",
            "Epoch 10/20\n",
            "1688/1688 [==============================] - 13s 8ms/step - loss: 0.0455 - accuracy: 0.9869 - val_loss: 0.1137 - val_accuracy: 0.9870\n",
            "Epoch 11/20\n",
            "1688/1688 [==============================] - 14s 8ms/step - loss: 0.0366 - accuracy: 0.9890 - val_loss: 0.1139 - val_accuracy: 0.9847\n",
            "Epoch 12/20\n",
            "1688/1688 [==============================] - 13s 8ms/step - loss: 0.0340 - accuracy: 0.9901 - val_loss: 0.0862 - val_accuracy: 0.9887\n",
            "Epoch 13/20\n",
            "1688/1688 [==============================] - 13s 8ms/step - loss: 0.0327 - accuracy: 0.9907 - val_loss: 0.1297 - val_accuracy: 0.9842\n",
            "Epoch 14/20\n",
            "1688/1688 [==============================] - 13s 8ms/step - loss: 0.0292 - accuracy: 0.9915 - val_loss: 0.1558 - val_accuracy: 0.9825\n",
            "Epoch 15/20\n",
            "1688/1688 [==============================] - 14s 8ms/step - loss: 0.0293 - accuracy: 0.9912 - val_loss: 0.0806 - val_accuracy: 0.9888\n",
            "Epoch 16/20\n",
            "1688/1688 [==============================] - 14s 8ms/step - loss: 0.0258 - accuracy: 0.9917 - val_loss: 0.0608 - val_accuracy: 0.9915\n",
            "Epoch 17/20\n",
            "1688/1688 [==============================] - 13s 8ms/step - loss: 0.0260 - accuracy: 0.9923 - val_loss: 0.0823 - val_accuracy: 0.9888\n",
            "Epoch 18/20\n",
            "1688/1688 [==============================] - 13s 8ms/step - loss: 0.0239 - accuracy: 0.9927 - val_loss: 0.0961 - val_accuracy: 0.9865\n",
            "Epoch 19/20\n",
            "1688/1688 [==============================] - 14s 8ms/step - loss: 0.0237 - accuracy: 0.9927 - val_loss: 0.0720 - val_accuracy: 0.9907\n",
            "Epoch 20/20\n",
            "1688/1688 [==============================] - 14s 8ms/step - loss: 0.0227 - accuracy: 0.9931 - val_loss: 0.0577 - val_accuracy: 0.9898\n"
          ]
        }
      ]
    },
    {
      "cell_type": "code",
      "source": [
        "model.save(\"model.h5\")  #saving the model\n"
      ],
      "metadata": {
        "id": "owUmhtg0nP91"
      },
      "execution_count": null,
      "outputs": []
    },
    {
      "cell_type": "code",
      "source": [
        "from tensorflow.keras.models import load_model\n",
        "model = load_model(\"model.h5\")\n"
      ],
      "metadata": {
        "id": "1ZAHOQgtnVwE"
      },
      "execution_count": null,
      "outputs": []
    },
    {
      "cell_type": "code",
      "source": [
        "loss_and_acc = model.evaluate(x_test, y_test)\n",
        "print(\"Test data loss: \", loss_and_acc[0])\n",
        "print(\"Test data accuracy: \", loss_and_acc[1] * 100)\n"
      ],
      "metadata": {
        "colab": {
          "base_uri": "https://localhost:8080/"
        },
        "id": "PODeXLgnncbP",
        "outputId": "7ab0db19-b2c0-49cd-fb02-dae4b0f01a2f"
      },
      "execution_count": null,
      "outputs": [
        {
          "output_type": "stream",
          "name": "stdout",
          "text": [
            "313/313 [==============================] - 1s 4ms/step - loss: 0.0527 - accuracy: 0.9917\n",
            "Test data loss:  0.05273947864770889\n",
            "Test data accuracy:  99.16999936103821\n"
          ]
        }
      ]
    },
    {
      "cell_type": "markdown",
      "source": [
        "#Plotting and Validation of Data"
      ],
      "metadata": {
        "id": "gBo9IBA4nur6"
      }
    },
    {
      "cell_type": "code",
      "source": [
        "acc = history.history['accuracy']\n",
        "val_acc = history.history['val_accuracy']\n",
        "loss = history.history['loss']\n",
        "val_loss = history.history['val_loss']\n",
        "epochs = range(len(acc))\n",
        "\n",
        "fig, ax = plt.subplots(nrows = 1, ncols = 2, figsize = (15, 6))\n",
        "\n",
        "ax[0].plot(epochs, acc, color = 'red', label = 'Training accuracy')\n",
        "ax[0].plot(epochs, val_acc, color = 'blue', label = 'Validation accuracy')\n",
        "ax[0].legend(loc = 0)\n",
        "\n",
        "ax[1].plot(epochs, loss, color = 'red', label = 'Training loss')\n",
        "ax[1].plot(epochs, val_loss, color = 'blue', label = 'Validation loss')\n",
        "ax[1].legend(loc = 0)\n",
        "\n",
        "plt.suptitle('Training and Validation')\n",
        "\n",
        "plt.show()\n"
      ],
      "metadata": {
        "colab": {
          "base_uri": "https://localhost:8080/",
          "height": 417
        },
        "id": "Ep2ujncQnyYH",
        "outputId": "c33d1e49-e0f1-466a-a2d9-b3921e28e5f5"
      },
      "execution_count": null,
      "outputs": [
        {
          "output_type": "display_data",
          "data": {
            "text/plain": [
              "<Figure size 1080x432 with 2 Axes>"
            ],
            "image/png": "[encoded data removed]"
          },
          "metadata": {
            "needs_background": "light"
          }
        }
      ]
    },
    {
      "cell_type": "code",
      "source": [
        "y_pred = model.predict(x_test)  #confusion matrix\n",
        "y_pred_labels = [np.argmax(i) for i in y_pred]\n",
        "cm = tf.math.confusion_matrix(labels = y_test, predictions = y_pred_labels)\n"
      ],
      "metadata": {
        "colab": {
          "base_uri": "https://localhost:8080/"
        },
        "id": "US_MPdkMoLx_",
        "outputId": "49cecc7b-bdc4-4c72-ed7b-5d32e5b3910f"
      },
      "execution_count": null,
      "outputs": [
        {
          "output_type": "stream",
          "name": "stdout",
          "text": [
            "313/313 [==============================] - 1s 2ms/step\n"
          ]
        }
      ]
    },
    {
      "cell_type": "markdown",
      "source": [
        "#Heatmap Plotting"
      ],
      "metadata": {
        "id": "eeqUozfsof97"
      }
    },
    {
      "cell_type": "code",
      "source": [
        "plt.figure(figsize = (18, 10))\n",
        "sns.heatmap(cm, annot = True, fmt = 'd', cmap = 'magma')\n",
        "plt.xlabel(\"Predicted\", fontsize = 10)\n",
        "plt.ylabel(\"Truth\", fontsize = 10)\n"
      ],
      "metadata": {
        "colab": {
          "base_uri": "https://localhost:8080/",
          "height": 623
        },
        "id": "FyK7OFQ-ohnE",
        "outputId": "cfaf544c-c9b7-43a2-9dcd-f78e965f9fda"
      },
      "execution_count": null,
      "outputs": [
        {
          "output_type": "execute_result",
          "data": {
            "text/plain": [
              "Text(141.0, 0.5, 'Truth')"
            ]
          },
          "metadata": {},
          "execution_count": 18
        },
        {
          "output_type": "display_data",
          "data": {
            "text/plain": [
              "<Figure size 1296x720 with 2 Axes>"
            ],
            "image/png": "[encoded data removed]"
          },
          "metadata": {
            "needs_background": "light"
          }
        }
      ]
    },
    {
      "cell_type": "markdown",
      "source": [
        "#Testing the Model"
      ],
      "metadata": {
        "id": "2cxPcANuo0ts"
      }
    },
    {
      "cell_type": "code",
      "source": [
        "plt.imshow(tf.squeeze(x_test[5]))\n",
        "plt.title('Actual Value: {}'.format(y_test[5]))\n",
        "prediction = model.predict(x_test)\n",
        "\n",
        "plt.axis('on')\n",
        "print('Predicted Value:', np.argmax(prediction[5]))\n",
        "if(y_test[5] == (np.argmax(prediction[5]))):\n",
        "  print('Successful Prediction')\n",
        "else:\n",
        "  print('Unsuccessful Prediction')\n"
      ],
      "metadata": {
        "colab": {
          "base_uri": "https://localhost:8080/",
          "height": 333
        },
        "id": "thdR_hwdo2mE",
        "outputId": "fb7764a8-7044-427b-834d-ef3cd60e0ae0"
      },
      "execution_count": null,
      "outputs": [
        {
          "output_type": "stream",
          "name": "stdout",
          "text": [
            "313/313 [==============================] - 1s 2ms/step\n",
            "Predicted Value: 1\n",
            "Successful Prediction\n"
          ]
        },
        {
          "output_type": "display_data",
          "data": {
            "text/plain": [
              "<Figure size 432x288 with 1 Axes>"
            ],
            "image/png": "[encoded data removed]"
          },
          "metadata": {
            "needs_background": "light"
          }
        }
      ]
    },
    {
      "cell_type": "code",
      "source": [
        "plt.imshow(tf.squeeze(x_test[9]))\n",
        "plt.title('Actual Value: {}'.format(y_test[9]))\n",
        "prediction = model.predict(x_test)\n",
        "\n",
        "plt.axis('on')\n",
        "print('Predicted Value:', np.argmax(prediction[9]))\n",
        "if(y_test[9] == (np.argmax(prediction[9]))):\n",
        "  print('Successful Prediction')\n",
        "else:\n",
        "  print('Unsuccessful Prediction')\n"
      ],
      "metadata": {
        "colab": {
          "base_uri": "https://localhost:8080/",
          "height": 333
        },
        "id": "nu73q3fQ5L2q",
        "outputId": "889f71cb-d7be-473a-9569-bb1372f05158"
      },
      "execution_count": null,
      "outputs": [
        {
          "output_type": "stream",
          "name": "stdout",
          "text": [
            "313/313 [==============================] - 1s 2ms/step\n",
            "Predicted Value: 9\n",
            "Successful Prediction\n"
          ]
        },
        {
          "output_type": "display_data",
          "data": {
            "text/plain": [
              "<Figure size 432x288 with 1 Axes>"
            ],
            "image/png": "[encoded data removed]"
          },
          "metadata": {
            "needs_background": "light"
          }
        }
      ]
    }
  ]
}